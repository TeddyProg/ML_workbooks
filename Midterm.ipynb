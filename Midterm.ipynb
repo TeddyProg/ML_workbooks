{
  "nbformat": 4,
  "nbformat_minor": 0,
  "metadata": {
    "colab": {
      "provenance": [],
      "mount_file_id": "1nDmgr2LsUu34NR-OHyZZcJgr1HsQYjpz",
      "authorship_tag": "ABX9TyNGyFBkMroObWsQlcy0RHRn",
      "include_colab_link": true
    },
    "kernelspec": {
      "name": "python3",
      "display_name": "Python 3"
    },
    "language_info": {
      "name": "python"
    }
  },
  "cells": [
    {
      "cell_type": "markdown",
      "metadata": {
        "id": "view-in-github",
        "colab_type": "text"
      },
      "source": [
        "<a href=\"https://colab.research.google.com/github/TeddyProg/ML_workbooks/blob/main/Midterm.ipynb\" target=\"_parent\"><img src=\"https://colab.research.google.com/assets/colab-badge.svg\" alt=\"Open In Colab\"/></a>"
      ]
    },
    {
      "cell_type": "markdown",
      "source": [
        "Importing libs, mounting drive"
      ],
      "metadata": {
        "id": "fnPWda0P2_JQ"
      }
    },
    {
      "cell_type": "code",
      "execution_count": 5,
      "metadata": {
        "colab": {
          "base_uri": "https://localhost:8080/"
        },
        "id": "nVZ3Vz1UnYad",
        "outputId": "724e5564-23ed-453b-be98-3d3938447d30"
      },
      "outputs": [
        {
          "output_type": "stream",
          "name": "stdout",
          "text": [
            "Mounted at /content/drive\n"
          ]
        }
      ],
      "source": [
        "import pandas as pd\n",
        "import numpy as np\n",
        "import io\n",
        "import seaborn as sns\n",
        "import matplotlib.pyplot as plt\n",
        "\n",
        "from google.colab import drive\n",
        "drive.mount('/content/drive', force_remount=True)\n"
      ]
    },
    {
      "cell_type": "markdown",
      "source": [
        "Loading data"
      ],
      "metadata": {
        "id": "PkT11ffq22ei"
      }
    },
    {
      "cell_type": "code",
      "source": [
        "\n",
        "data2023 = pd.read_csv('/content/drive/MyDrive/ZNO_data/Odata2023File.csv', on_bad_lines='warn', engine = 'c', header = 0, sep=';')\n"
      ],
      "metadata": {
        "colab": {
          "base_uri": "https://localhost:8080/"
        },
        "id": "97CBSowc24iP",
        "outputId": "6b934bef-398f-425b-b17e-2856e0aee790"
      },
      "execution_count": 16,
      "outputs": [
        {
          "output_type": "execute_result",
          "data": {
            "text/plain": [
              "Index(['outid', 'Birth', 'SexTypeName', 'RegName', 'AreaName', 'TerName',\n",
              "       'RegTypeName', 'TerTypeName', 'EOName', 'EOTypeName', 'EORegName',\n",
              "       'EOAreaName', 'EOTerName', 'EOParent', 'Test', 'TestDate', 'UkrBlock',\n",
              "       'UkrBlockStatus', 'UkrBlockBall100', 'UkrBlockBall', 'HistBlock',\n",
              "       'HistBlockStatus', 'HistBlockBall100', 'HistBlockBall', 'MathBlock',\n",
              "       'MathBlockStatus', 'MathBlockBall100', 'MathBlockBall', 'PhysBlock',\n",
              "       'PhysBlockStatus', 'PhysBlockBall100', 'PhysBlockBall', 'ChemBlock',\n",
              "       'ChemBlockStatus', 'ChemBlockBall100', 'ChemBlockBall', 'BioBlock',\n",
              "       'BioBlockStatus', 'BioBlockBall100', 'BioBlockBall', 'EngBlock',\n",
              "       'EngBlockStatus', 'EngBlockBall100', 'EngBlockBall', 'FraBlock',\n",
              "       'FraBlockStatus', 'FraBlockBall100', 'FraBlockBall', 'DeuBlock',\n",
              "       'DeuBlockStatus', 'DeuBlockBall100', 'DeuBlockBall', 'SpaBlock',\n",
              "       'SpaBlockStatus', 'SpaBlockBall100', 'SpaBlockBall', 'PTRegName',\n",
              "       'PTAreaName', 'PTTerName'],\n",
              "      dtype='object')"
            ]
          },
          "metadata": {},
          "execution_count": 16
        }
      ]
    },
    {
      "cell_type": "markdown",
      "source": [
        "Formatting dataframe"
      ],
      "metadata": {
        "id": "WAWYhfL43kQT"
      }
    },
    {
      "cell_type": "code",
      "source": [
        "subjectGradesColumnNames = [ 'UkrBlockBall100',\n",
        "                             'HistBlockBall100',\n",
        "                             'MathBlockBall100',\n",
        "                             'PhysBlockBall100',\n",
        "                             'ChemBlockBall100',\n",
        "                             'BioBlockBall100',\n",
        "                             'EngBlockBall100',\n",
        "                             'FraBlockBall100',\n",
        "                             'DeuBlockBall100',\n",
        "                             'SpaBlockBall100'\n",
        "                             ]\n",
        "\n",
        "for subjectGrade in subjectGradesColumnNames:\n",
        "  data2023[subjectGrade] = data2023[subjectGrade].str.replace(',','.')\n",
        "  data2023[subjectGrade] = data2023[subjectGrade].astype(np.float64)\n",
        "\n"
      ],
      "metadata": {
        "colab": {
          "base_uri": "https://localhost:8080/"
        },
        "id": "4OevW1wh3oGm",
        "outputId": "20e22477-9c53-482e-cda3-64376f73d4d2"
      },
      "execution_count": 35,
      "outputs": [
        {
          "output_type": "stream",
          "name": "stderr",
          "text": [
            "<ipython-input-35-e13f55d0c311>:15: DeprecationWarning: `np.float` is a deprecated alias for the builtin `float`. To silence this warning, use `float` by itself. Doing this will not modify any behavior and is safe. If you specifically wanted the numpy scalar type, use `np.float64` here.\n",
            "Deprecated in NumPy 1.20; for more details and guidance: https://numpy.org/devdocs/release/1.20.0-notes.html#deprecations\n",
            "  data2023[subjectGrade] = data2023[subjectGrade].astype(np.float)\n"
          ]
        },
        {
          "output_type": "stream",
          "name": "stdout",
          "text": [
            "3         140.0\n",
            "4         134.0\n",
            "5         160.0\n",
            "7         143.0\n",
            "9         124.0\n",
            "          ...  \n",
            "288928    149.0\n",
            "288929    140.0\n",
            "288930    155.0\n",
            "288931    130.0\n",
            "288933    134.0\n",
            "Name: HistBlockBall100, Length: 141068, dtype: float64\n"
          ]
        }
      ]
    },
    {
      "cell_type": "markdown",
      "source": [
        "Displaying different subjects histograms"
      ],
      "metadata": {
        "id": "p0WnqK-7EgG0"
      }
    },
    {
      "cell_type": "code",
      "source": [
        "histGradesArray = data2023['HistBlockBall100'].dropna()\n",
        "ax = plt.axes(facecolor='#E6E6E6')\n",
        "ax.set_axisbelow(True)\n",
        "# draw solid white grid lines\n",
        "plt.grid(color='w', linestyle='solid')\n",
        "# hide axis spines\n",
        "for spine in ax.spines.values():\n",
        "  spine.set_visible(False)\n",
        "# hide top and right ticks\n",
        "ax.xaxis.tick_bottom()\n",
        "ax.yaxis.tick_left()\n",
        "# lighten ticks and labels\n",
        "ax.tick_params(colors='gray', direction='out')\n",
        "for tick in ax.get_xticklabels():\n",
        "  tick.set_color('gray')\n",
        "for tick in ax.get_yticklabels():\n",
        "  tick.set_color('gray')\n",
        "\n",
        "ax.hist(histGradesArray, bins = 10, edgecolor='#E6E6E6', color='#EE6666')\n",
        "#print(hist, bin_edges)"
      ],
      "metadata": {
        "colab": {
          "base_uri": "https://localhost:8080/",
          "height": 502
        },
        "id": "33QYigJAEsVP",
        "outputId": "1bca2fb4-ebd6-4090-c562-9ac582280c4f"
      },
      "execution_count": 45,
      "outputs": [
        {
          "output_type": "execute_result",
          "data": {
            "text/plain": [
              "(array([  224.,     0.,     0.,     0.,     0.,  4444., 57172., 67052.,\n",
              "         8674.,  3502.]),\n",
              " array([  0.,  20.,  40.,  60.,  80., 100., 120., 140., 160., 180., 200.]),\n",
              " <BarContainer object of 10 artists>)"
            ]
          },
          "metadata": {},
          "execution_count": 45
        },
        {
          "output_type": "display_data",
          "data": {
            "text/plain": [
              "<Figure size 640x480 with 1 Axes>"
            ],
            "image/png": "[encoded data removed]"
          },
          "metadata": {}
        }
      ]
    }
  ]
}